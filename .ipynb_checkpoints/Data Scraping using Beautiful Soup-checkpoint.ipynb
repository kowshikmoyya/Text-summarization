{
 "cells": [
  {
   "cell_type": "code",
   "execution_count": 1,
   "metadata": {},
   "outputs": [],
   "source": [
    "import requests\n",
    "import urllib\n",
    "import pandas as pd\n",
    "import os\n",
    "from bs4 import BeautifulSoup\n",
    "import re"
   ]
  },
  {
   "cell_type": "code",
   "execution_count": null,
   "metadata": {},
   "outputs": [],
   "source": []
  },
  {
   "cell_type": "code",
   "execution_count": 84,
   "metadata": {},
   "outputs": [],
   "source": [
    "headers = {'User-Agent': 'whatever'}\n",
    "\n",
    "start_year = 1950\n",
    "end_year = 1995\n",
    "url = \"http://www.liiofindia.org/in/cases/cen/INSC/\"\n",
    "path = \"Web Pages/\"\n",
    "\n",
    "for curr_year in range(start_year,end_year+1,1):\n",
    "    flag = True\n",
    "    i = 1\n",
    "    while flag :\n",
    "        url_new = url + str(curr_year) + \"/\" + str(i) + \".html\"\n",
    "        file_name = path + str(curr_year) + \"_\" + str(i) + \".html\"\n",
    "        result = requests.get(url_new,headers = headers)\n",
    "        if result.status_code == int(404):\n",
    "            flag = False\n",
    "            i = 1\n",
    "        else:\n",
    "            saveashtml(result.text,file_name)\n",
    "            i = i+1"
   ]
  },
  {
   "cell_type": "code",
   "execution_count": 77,
   "metadata": {},
   "outputs": [],
   "source": [
    "def saveashtml(s,file_name):\n",
    "    with open(file_name,'w') as f:\n",
    "        f.write(s)\n",
    "        f.close()"
   ]
  },
  {
   "cell_type": "code",
   "execution_count": 63,
   "metadata": {},
   "outputs": [
    {
     "data": {
      "text/plain": [
       "'http://www.liiofindia.org/in/cases/cen/INSC/1950/1.html'"
      ]
     },
     "execution_count": 63,
     "metadata": {},
     "output_type": "execute_result"
    }
   ],
   "source": [
    "url_new = url_new = url + str(curr_year) + \"/\" + str(1) + \".html\"\n",
    "url_new"
   ]
  },
  {
   "cell_type": "code",
   "execution_count": 208,
   "metadata": {},
   "outputs": [
    {
     "data": {
      "text/plain": [
       "1989.123"
      ]
     },
     "execution_count": 208,
     "metadata": {},
     "output_type": "execute_result"
    }
   ],
   "source": [
    "float(\"1989_123.html\".replace(\"_\",\".\").replace(\".html\",\"\"))"
   ]
  },
  {
   "cell_type": "code",
   "execution_count": 217,
   "metadata": {},
   "outputs": [
    {
     "data": {
      "text/plain": [
       "12811"
      ]
     },
     "execution_count": 217,
     "metadata": {},
     "output_type": "execute_result"
    }
   ],
   "source": [
    "len(os.listdir(\"/Users/kowshikmoyya/Documents/PGDBA/IIT Semester/Information Retrieval/Project/Web Pages\"))"
   ]
  },
  {
   "cell_type": "code",
   "execution_count": 4,
   "metadata": {},
   "outputs": [
    {
     "data": {
      "text/html": [
       "<div>\n",
       "<style scoped>\n",
       "    .dataframe tbody tr th:only-of-type {\n",
       "        vertical-align: middle;\n",
       "    }\n",
       "\n",
       "    .dataframe tbody tr th {\n",
       "        vertical-align: top;\n",
       "    }\n",
       "\n",
       "    .dataframe thead th {\n",
       "        text-align: right;\n",
       "    }\n",
       "</style>\n",
       "<table border=\"1\" class=\"dataframe\">\n",
       "  <thead>\n",
       "    <tr style=\"text-align: right;\">\n",
       "      <th></th>\n",
       "      <th>Summary</th>\n",
       "      <th>Full</th>\n",
       "    </tr>\n",
       "  </thead>\n",
       "  <tbody>\n",
       "    <tr>\n",
       "      <th>0</th>\n",
       "      <td>When a tenant has neither paid nor tendered th...</td>\n",
       "      <td>CIVIL APPELLATE JURISDICTION: Civil Appeal No....</td>\n",
       "    </tr>\n",
       "    <tr>\n",
       "      <th>1</th>\n",
       "      <td>The appellant company used to employ Messrs. S...</td>\n",
       "      <td>CIVIL APPELLATE, JURISDICTION: Civil Appeal No...</td>\n",
       "    </tr>\n",
       "    <tr>\n",
       "      <th>2</th>\n",
       "      <td>By a writ petition under Article 226 of the Co...</td>\n",
       "      <td>CIVIL APPELLATE JURISDICTION: Civil Appeal No....</td>\n",
       "    </tr>\n",
       "    <tr>\n",
       "      <th>3</th>\n",
       "      <td>The respondent's 'father made a deposit of Rs....</td>\n",
       "      <td>CIVIL APPELLATE JURISDICTION : Civil Appeal No...</td>\n",
       "    </tr>\n",
       "    <tr>\n",
       "      <th>4</th>\n",
       "      <td>The appellant is the Mahant of Emhar Math of P...</td>\n",
       "      <td>CIVIL APPELLATE JURISDICTION: Civil Appeal No....</td>\n",
       "    </tr>\n",
       "  </tbody>\n",
       "</table>\n",
       "</div>"
      ],
      "text/plain": [
       "                                             Summary  \\\n",
       "0  When a tenant has neither paid nor tendered th...   \n",
       "1  The appellant company used to employ Messrs. S...   \n",
       "2  By a writ petition under Article 226 of the Co...   \n",
       "3  The respondent's 'father made a deposit of Rs....   \n",
       "4  The appellant is the Mahant of Emhar Math of P...   \n",
       "\n",
       "                                                Full  \n",
       "0  CIVIL APPELLATE JURISDICTION: Civil Appeal No....  \n",
       "1  CIVIL APPELLATE, JURISDICTION: Civil Appeal No...  \n",
       "2  CIVIL APPELLATE JURISDICTION: Civil Appeal No....  \n",
       "3  CIVIL APPELLATE JURISDICTION : Civil Appeal No...  \n",
       "4  CIVIL APPELLATE JURISDICTION: Civil Appeal No....  "
      ]
     },
     "execution_count": 4,
     "metadata": {},
     "output_type": "execute_result"
    }
   ],
   "source": [
    "df = pd.DataFrame()\n",
    "\n",
    "directory = \"/Users/kowshikmoyya/Documents/PGDBA/IIT Semester/Information Retrieval/Project/Web Pages/\"\n",
    "for filename in os.listdir(directory):\n",
    "    if filename.endswith(\".html\"):\n",
    "        fname = os.path.join(directory,filename)\n",
    "        f = open(fname)\n",
    "        soup = BeautifulSoup(f,'html.parser')\n",
    "        df_obj = extract2df(soup,filename)\n",
    "        if len(df_obj) == 0:\n",
    "            f.close()\n",
    "            continue\n",
    "        df = df.append(df_obj)\n",
    "        f.close()\n",
    "df_train = df.reset_index().drop([\"index\"],axis =1)\n",
    "df_train.head()"
   ]
  },
  {
   "cell_type": "code",
   "execution_count": 6,
   "metadata": {},
   "outputs": [],
   "source": [
    "df_train.to_csv(\"/Users/kowshikmoyya/Documents/PGDBA/IIT Semester/Information Retrieval/Project/test/data_scrap1.csv\",index = False)"
   ]
  },
  {
   "cell_type": "code",
   "execution_count": 4,
   "metadata": {},
   "outputs": [],
   "source": [
    "df_train_new = df_train.sort_values(by= [\"Year\",\"Doc_no\"],ascending = [True,True]).reset_index().drop([\"index\"],axis = 1)"
   ]
  },
  {
   "cell_type": "code",
   "execution_count": 8,
   "metadata": {},
   "outputs": [],
   "source": [
    "df_train_new.to_csv(\"/Users/kowshikmoyya/Documents/PGDBA/IIT Semester/Information Retrieval/Project/test/data_scrap.csv\",index = False)"
   ]
  },
  {
   "cell_type": "code",
   "execution_count": 9,
   "metadata": {},
   "outputs": [
    {
     "data": {
      "text/plain": [
       "Summary    The appellant company used to employ Messrs. S...\n",
       "Full       CIVIL APPELLATE, JURISDICTION: Civil Appeal No...\n",
       "Name: 1, dtype: object"
      ]
     },
     "execution_count": 9,
     "metadata": {},
     "output_type": "execute_result"
    }
   ],
   "source": [
    "df_train.iloc[1]"
   ]
  },
  {
   "cell_type": "code",
   "execution_count": 3,
   "metadata": {},
   "outputs": [],
   "source": [
    "def extract2df(soup,filename):\n",
    "    head_str = \"\"\n",
    "    civil_str = \"\"\n",
    "    h = 0\n",
    "    p_list = soup.find_all('p')\n",
    "    for elem in p_list:\n",
    "        if elem.text.strip().lower().startswith(\"HEADNOTE:\".lower()):\n",
    "            h = 1\n",
    "            continue\n",
    "        if elem.text.strip().lower().replace(\"  \",\" \").startswith(\"Civil Appell\".lower()):\n",
    "            h = 2\n",
    "        if h == 1 :\n",
    "            head_str = head_str + \" \".join(elem.text.split())\n",
    "        if h == 2 :\n",
    "            civil_str = civil_str + \" \".join(elem.text.split())\n",
    "    if h == 2:\n",
    "#         res = filename.replace(\".html\",\"\").split(\"_\")\n",
    "#         year = int(res[0])\n",
    "#         doc_no = int(res[1])\n",
    "        df_obj = pd.DataFrame({\"Summary\":[head_str],\"Full\":[civil_str]})\n",
    "#         df_obj = pd.DataFrame({\"Summary\":[head_str],\"Full\":[civil_str],\"Year\":[year],\"Doc_no\":[doc_no]})\n",
    "    else:\n",
    "        return [] \n",
    "    return df_obj"
   ]
  },
  {
   "cell_type": "markdown",
   "metadata": {},
   "source": [
    "#### Importing data from xml and convert to csv"
   ]
  },
  {
   "cell_type": "code",
   "execution_count": 11,
   "metadata": {},
   "outputs": [],
   "source": [
    "import xml.etree.ElementTree as ET\n",
    "import csv "
   ]
  },
  {
   "cell_type": "code",
   "execution_count": 3,
   "metadata": {},
   "outputs": [],
   "source": [
    "tree = ET.parse(\"dataset_combined.xml\")"
   ]
  },
  {
   "cell_type": "code",
   "execution_count": 7,
   "metadata": {},
   "outputs": [
    {
     "data": {
      "text/plain": [
       "<Element 'data' at 0x126c6ac28>"
      ]
     },
     "execution_count": 7,
     "metadata": {},
     "output_type": "execute_result"
    }
   ],
   "source": [
    "root = tree.getroot()\n",
    "root"
   ]
  },
  {
   "cell_type": "code",
   "execution_count": 8,
   "metadata": {},
   "outputs": [],
   "source": [
    "judgementitems = []\n",
    "\n",
    "for record in root.findall('record'):\n",
    "\n",
    "        # empty news dictionary\n",
    "        judgements = {}\n",
    "\n",
    "        # iterate child elements of item\n",
    "        for child in record:\n",
    "             judgements[child.tag] = child.text\n",
    "\n",
    "        # append news dictionary to news items list\n",
    "        judgementitems.append(judgements)"
   ]
  },
  {
   "cell_type": "code",
   "execution_count": 30,
   "metadata": {},
   "outputs": [],
   "source": [
    "def savetoCSV(judgementitems, filename): \n",
    "  \n",
    "    # specifying the fields for csv file \n",
    "    fields = ['summary','full'] \n",
    "  \n",
    "    # writing to csv file \n",
    "    with open(filename, 'w') as csvfile: \n",
    "  \n",
    "        # creating a csv dict writer object \n",
    "        writer = csv.DictWriter(csvfile, fieldnames = fields) \n",
    "  \n",
    "        # writing headers (field names) \n",
    "        writer.writeheader() \n",
    "  \n",
    "        # writing data rows \n",
    "        writer.writerows(judgementitems) "
   ]
  },
  {
   "cell_type": "code",
   "execution_count": 31,
   "metadata": {},
   "outputs": [],
   "source": [
    "savetoCSV(judgementitems, 'judgement_data.csv')"
   ]
  },
  {
   "cell_type": "markdown",
   "metadata": {},
   "source": [
    "#### Reading from csv file"
   ]
  },
  {
   "cell_type": "code",
   "execution_count": 40,
   "metadata": {},
   "outputs": [
    {
     "data": {
      "text/html": [
       "<div>\n",
       "<style scoped>\n",
       "    .dataframe tbody tr th:only-of-type {\n",
       "        vertical-align: middle;\n",
       "    }\n",
       "\n",
       "    .dataframe tbody tr th {\n",
       "        vertical-align: top;\n",
       "    }\n",
       "\n",
       "    .dataframe thead th {\n",
       "        text-align: right;\n",
       "    }\n",
       "</style>\n",
       "<table border=\"1\" class=\"dataframe\">\n",
       "  <thead>\n",
       "    <tr style=\"text-align: right;\">\n",
       "      <th></th>\n",
       "      <th>summary</th>\n",
       "      <th>full</th>\n",
       "    </tr>\n",
       "  </thead>\n",
       "  <tbody>\n",
       "    <tr>\n",
       "      <th>0</th>\n",
       "      <td>S and B were sons of two brothers respect...</td>\n",
       "      <td>Civil Appeal  No.  8  of 1951.      Appeal fro...</td>\n",
       "    </tr>\n",
       "    <tr>\n",
       "      <th>1</th>\n",
       "      <td>In  1869  the British Government and the S...</td>\n",
       "      <td>eal No. II of 1949.    Appeal by special leave...</td>\n",
       "    </tr>\n",
       "    <tr>\n",
       "      <th>2</th>\n",
       "      <td>The  petitioner who was detained under  t...</td>\n",
       "      <td>No. XIII of 1950.     Application  under Art. ...</td>\n",
       "    </tr>\n",
       "    <tr>\n",
       "      <th>3</th>\n",
       "      <td>Section  7  (1) (c) of the East Punjab Public...</td>\n",
       "      <td>XXIX of 1950.     Application  under article 3...</td>\n",
       "    </tr>\n",
       "    <tr>\n",
       "      <th>4</th>\n",
       "      <td>Held,  by the Full Court (i) (overruling  ...</td>\n",
       "      <td>No. XVI of 1950.  Appli- cation under article ...</td>\n",
       "    </tr>\n",
       "    <tr>\n",
       "      <th>5</th>\n",
       "      <td>The charge created in respect of municipa...</td>\n",
       "      <td>ppeal  No.  LXVI  of 1949.     Appeal from the...</td>\n",
       "    </tr>\n",
       "    <tr>\n",
       "      <th>6</th>\n",
       "      <td>Section  4,  sub-s. (1) (c), of the East ...</td>\n",
       "      <td>XXXVII of 1950. Application  under article 32 ...</td>\n",
       "    </tr>\n",
       "    <tr>\n",
       "      <th>7</th>\n",
       "      <td>Held per KANIA (C.J. FAZL ALl,  and  MAHAJAN...</td>\n",
       "      <td>eal  No. XXXIV of 1950.     Appeal  by special...</td>\n",
       "    </tr>\n",
       "    <tr>\n",
       "      <th>8</th>\n",
       "      <td>In a case where death is due to injuries or w...</td>\n",
       "      <td>eal No. 10 of 1950.    Appeal  by  special lea...</td>\n",
       "    </tr>\n",
       "    <tr>\n",
       "      <th>9</th>\n",
       "      <td>In execution of a decree obtained on a mo...</td>\n",
       "      <td>als Nos. 56  and  57  of 1949.  Appeals from t...</td>\n",
       "    </tr>\n",
       "    <tr>\n",
       "      <th>10</th>\n",
       "      <td>The cardinal maxim to be observed by cour...</td>\n",
       "      <td>eal No.  XIII  of  1950. Appeal from a judgmen...</td>\n",
       "    </tr>\n",
       "    <tr>\n",
       "      <th>11</th>\n",
       "      <td>The  Central Provinces and Berar Regulati...</td>\n",
       "      <td>. 78 and 79 of 1950.       Application  under ...</td>\n",
       "    </tr>\n",
       "    <tr>\n",
       "      <th>12</th>\n",
       "      <td>When  there is conflict of oral evidence o...</td>\n",
       "      <td>No. LXX of 1949.     Appeal  from  the judgme...</td>\n",
       "    </tr>\n",
       "    <tr>\n",
       "      <th>13</th>\n",
       "      <td>In  construing a document whether in English...</td>\n",
       "      <td>No. LIX of 1949.     Appeal  from  the judgme...</td>\n",
       "    </tr>\n",
       "    <tr>\n",
       "      <th>14</th>\n",
       "      <td>No  appeal lay to the Federal Court from a...</td>\n",
       "      <td>No. 61 of 1950.     Appeal  from an order of ...</td>\n",
       "    </tr>\n",
       "    <tr>\n",
       "      <th>15</th>\n",
       "      <td>The appellants,  a firm of  brokers,  ente...</td>\n",
       "      <td>No. XLII of 1950.     Appeal  from  the judgm...</td>\n",
       "    </tr>\n",
       "    <tr>\n",
       "      <th>16</th>\n",
       "      <td>An application for execution of a decree ...</td>\n",
       "      <td>No. 37 of 1950.     Appeal from a judgment of...</td>\n",
       "    </tr>\n",
       "    <tr>\n",
       "      <th>17</th>\n",
       "      <td>The  defendant  had obtained certain prem...</td>\n",
       "      <td>Appeal No. 4 of 1950.     Appeal  from  the Hi...</td>\n",
       "    </tr>\n",
       "    <tr>\n",
       "      <th>18</th>\n",
       "      <td>An agreement for a lease, which a lease i...</td>\n",
       "      <td>vil  Appeal  No.94   of 1949. 107 834 Appeal f...</td>\n",
       "    </tr>\n",
       "    <tr>\n",
       "      <th>19</th>\n",
       "      <td>The Income-tax officer,  Dacca,  acting ...</td>\n",
       "      <td>of 1949.     Appeal  from a judgment of the Hi...</td>\n",
       "    </tr>\n",
       "  </tbody>\n",
       "</table>\n",
       "</div>"
      ],
      "text/plain": [
       "                                              summary  \\\n",
       "0        S and B were sons of two brothers respect...   \n",
       "1       In  1869  the British Government and the S...   \n",
       "2        The  petitioner who was detained under  t...   \n",
       "3    Section  7  (1) (c) of the East Punjab Public...   \n",
       "4       Held,  by the Full Court (i) (overruling  ...   \n",
       "5        The charge created in respect of municipa...   \n",
       "6        Section  4,  sub-s. (1) (c), of the East ...   \n",
       "7     Held per KANIA (C.J. FAZL ALl,  and  MAHAJAN...   \n",
       "8    In a case where death is due to injuries or w...   \n",
       "9        In execution of a decree obtained on a mo...   \n",
       "10       The cardinal maxim to be observed by cour...   \n",
       "11       The  Central Provinces and Berar Regulati...   \n",
       "12      When  there is conflict of oral evidence o...   \n",
       "13    In  construing a document whether in English...   \n",
       "14      No  appeal lay to the Federal Court from a...   \n",
       "15      The appellants,  a firm of  brokers,  ente...   \n",
       "16       An application for execution of a decree ...   \n",
       "17       The  defendant  had obtained certain prem...   \n",
       "18       An agreement for a lease, which a lease i...   \n",
       "19        The Income-tax officer,  Dacca,  acting ...   \n",
       "\n",
       "                                                 full  \n",
       "0   Civil Appeal  No.  8  of 1951.      Appeal fro...  \n",
       "1   eal No. II of 1949.    Appeal by special leave...  \n",
       "2   No. XIII of 1950.     Application  under Art. ...  \n",
       "3   XXIX of 1950.     Application  under article 3...  \n",
       "4   No. XVI of 1950.  Appli- cation under article ...  \n",
       "5   ppeal  No.  LXVI  of 1949.     Appeal from the...  \n",
       "6   XXXVII of 1950. Application  under article 32 ...  \n",
       "7   eal  No. XXXIV of 1950.     Appeal  by special...  \n",
       "8   eal No. 10 of 1950.    Appeal  by  special lea...  \n",
       "9   als Nos. 56  and  57  of 1949.  Appeals from t...  \n",
       "10  eal No.  XIII  of  1950. Appeal from a judgmen...  \n",
       "11  . 78 and 79 of 1950.       Application  under ...  \n",
       "12   No. LXX of 1949.     Appeal  from  the judgme...  \n",
       "13   No. LIX of 1949.     Appeal  from  the judgme...  \n",
       "14   No. 61 of 1950.     Appeal  from an order of ...  \n",
       "15   No. XLII of 1950.     Appeal  from  the judgm...  \n",
       "16   No. 37 of 1950.     Appeal from a judgment of...  \n",
       "17  Appeal No. 4 of 1950.     Appeal  from  the Hi...  \n",
       "18  vil  Appeal  No.94   of 1949. 107 834 Appeal f...  \n",
       "19  of 1949.     Appeal  from a judgment of the Hi...  "
      ]
     },
     "execution_count": 40,
     "metadata": {},
     "output_type": "execute_result"
    }
   ],
   "source": [
    "df_xml = pd.read_csv(\"judgement_data.csv\")\n",
    "df_xml.head(20)"
   ]
  },
  {
   "cell_type": "code",
   "execution_count": 33,
   "metadata": {},
   "outputs": [],
   "source": [
    "import nltk"
   ]
  },
  {
   "cell_type": "code",
   "execution_count": null,
   "metadata": {},
   "outputs": [],
   "source": []
  }
 ],
 "metadata": {
  "kernelspec": {
   "display_name": "Python 3",
   "language": "python",
   "name": "python3"
  },
  "language_info": {
   "codemirror_mode": {
    "name": "ipython",
    "version": 3
   },
   "file_extension": ".py",
   "mimetype": "text/x-python",
   "name": "python",
   "nbconvert_exporter": "python",
   "pygments_lexer": "ipython3",
   "version": "3.7.3"
  }
 },
 "nbformat": 4,
 "nbformat_minor": 2
}
