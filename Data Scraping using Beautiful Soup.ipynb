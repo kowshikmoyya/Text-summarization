{
 "cells": [
  {
   "cell_type": "markdown",
   "metadata": {},
   "source": [
    "#### Import packages"
   ]
  },
  {
   "cell_type": "code",
   "execution_count": 1,
   "metadata": {},
   "outputs": [],
   "source": [
    "import requests\n",
    "import urllib\n",
    "import pandas as pd\n",
    "import os\n",
    "from bs4 import BeautifulSoup\n",
    "import re"
   ]
  },
  {
   "cell_type": "markdown",
   "metadata": {},
   "source": [
    "#### Download HTML pages"
   ]
  },
  {
   "cell_type": "code",
   "execution_count": null,
   "metadata": {},
   "outputs": [],
   "source": [
    "def saveashtml(s,file_name):\n",
    "    with open(file_name,'w') as f:\n",
    "        f.write(s)\n",
    "        f.close()"
   ]
  },
  {
   "cell_type": "code",
   "execution_count": 84,
   "metadata": {},
   "outputs": [],
   "source": [
    "headers = {'User-Agent': 'whatever'}\n",
    "\n",
    "start_year = 1950\n",
    "end_year = 1995\n",
    "url = \"http://www.liiofindia.org/in/cases/cen/INSC/\"\n",
    "path = \"Web Pages/\"\n",
    "\n",
    "for curr_year in range(start_year,end_year+1,1):\n",
    "    flag = True\n",
    "    i = 1\n",
    "    while flag :\n",
    "        url_new = url + str(curr_year) + \"/\" + str(i) + \".html\"\n",
    "        file_name = path + str(curr_year) + \"_\" + str(i) + \".html\"\n",
    "        result = requests.get(url_new,headers = headers)\n",
    "        if result.status_code == int(404):\n",
    "            flag = False\n",
    "            i = 1\n",
    "        else:\n",
    "            saveashtml(result.text,file_name)\n",
    "            i = i+1"
   ]
  },
  {
   "cell_type": "markdown",
   "metadata": {},
   "source": [
    "#### Data Scraping from HTML pages"
   ]
  },
  {
   "cell_type": "code",
   "execution_count": 2,
   "metadata": {},
   "outputs": [],
   "source": [
    "def extract2df(soup,filename):\n",
    "    head_str = \"\"\n",
    "    civil_str = \"\"\n",
    "    h = 0\n",
    "    p_list = soup.find_all('p')\n",
    "    for elem in p_list:\n",
    "        if elem.text.strip().lower().startswith(\"HEADNOTE:\".lower()):\n",
    "            h = 1\n",
    "            continue\n",
    "        if elem.text.strip().lower().replace(\"  \",\" \").startswith(\"Civil Appell\".lower()):\n",
    "            h = 2\n",
    "        if h == 1 :\n",
    "            head_str = head_str + \" \".join(elem.text.split())\n",
    "        if h == 2 :\n",
    "            civil_str = civil_str + \" \".join(elem.text.split())\n",
    "    if h == 2:\n",
    "#         res = filename.replace(\".html\",\"\").split(\"_\")\n",
    "#         year = int(res[0])\n",
    "#         doc_no = int(res[1])\n",
    "        df_obj = pd.DataFrame({\"Summary\":[head_str],\"Full\":[civil_str]})\n",
    "#         df_obj = pd.DataFrame({\"Summary\":[head_str],\"Full\":[civil_str],\"Year\":[year],\"Doc_no\":[doc_no]})\n",
    "    else:\n",
    "        return [] \n",
    "    return df_obj"
   ]
  },
  {
   "cell_type": "code",
   "execution_count": null,
   "metadata": {},
   "outputs": [],
   "source": []
  },
  {
   "cell_type": "code",
   "execution_count": 4,
   "metadata": {},
   "outputs": [
    {
     "data": {
      "text/html": [
       "<div>\n",
       "<style scoped>\n",
       "    .dataframe tbody tr th:only-of-type {\n",
       "        vertical-align: middle;\n",
       "    }\n",
       "\n",
       "    .dataframe tbody tr th {\n",
       "        vertical-align: top;\n",
       "    }\n",
       "\n",
       "    .dataframe thead th {\n",
       "        text-align: right;\n",
       "    }\n",
       "</style>\n",
       "<table border=\"1\" class=\"dataframe\">\n",
       "  <thead>\n",
       "    <tr style=\"text-align: right;\">\n",
       "      <th></th>\n",
       "      <th>Summary</th>\n",
       "      <th>Full</th>\n",
       "    </tr>\n",
       "  </thead>\n",
       "  <tbody>\n",
       "    <tr>\n",
       "      <th>0</th>\n",
       "      <td>When a tenant has neither paid nor tendered th...</td>\n",
       "      <td>CIVIL APPELLATE JURISDICTION: Civil Appeal No....</td>\n",
       "    </tr>\n",
       "    <tr>\n",
       "      <th>1</th>\n",
       "      <td>The appellant company used to employ Messrs. S...</td>\n",
       "      <td>CIVIL APPELLATE, JURISDICTION: Civil Appeal No...</td>\n",
       "    </tr>\n",
       "    <tr>\n",
       "      <th>2</th>\n",
       "      <td>By a writ petition under Article 226 of the Co...</td>\n",
       "      <td>CIVIL APPELLATE JURISDICTION: Civil Appeal No....</td>\n",
       "    </tr>\n",
       "    <tr>\n",
       "      <th>3</th>\n",
       "      <td>The respondent's 'father made a deposit of Rs....</td>\n",
       "      <td>CIVIL APPELLATE JURISDICTION : Civil Appeal No...</td>\n",
       "    </tr>\n",
       "    <tr>\n",
       "      <th>4</th>\n",
       "      <td>The appellant is the Mahant of Emhar Math of P...</td>\n",
       "      <td>CIVIL APPELLATE JURISDICTION: Civil Appeal No....</td>\n",
       "    </tr>\n",
       "  </tbody>\n",
       "</table>\n",
       "</div>"
      ],
      "text/plain": [
       "                                             Summary  \\\n",
       "0  When a tenant has neither paid nor tendered th...   \n",
       "1  The appellant company used to employ Messrs. S...   \n",
       "2  By a writ petition under Article 226 of the Co...   \n",
       "3  The respondent's 'father made a deposit of Rs....   \n",
       "4  The appellant is the Mahant of Emhar Math of P...   \n",
       "\n",
       "                                                Full  \n",
       "0  CIVIL APPELLATE JURISDICTION: Civil Appeal No....  \n",
       "1  CIVIL APPELLATE, JURISDICTION: Civil Appeal No...  \n",
       "2  CIVIL APPELLATE JURISDICTION: Civil Appeal No....  \n",
       "3  CIVIL APPELLATE JURISDICTION : Civil Appeal No...  \n",
       "4  CIVIL APPELLATE JURISDICTION: Civil Appeal No....  "
      ]
     },
     "execution_count": 4,
     "metadata": {},
     "output_type": "execute_result"
    }
   ],
   "source": [
    "df = pd.DataFrame()\n",
    "\n",
    "directory = \"/Users/kowshikmoyya/Documents/PGDBA/IIT Semester/Information Retrieval/Project/Web Pages/\"\n",
    "for filename in os.listdir(directory):\n",
    "    if filename.endswith(\".html\"):\n",
    "        fname = os.path.join(directory,filename)\n",
    "        f = open(fname)\n",
    "        soup = BeautifulSoup(f,'html.parser')\n",
    "        df_obj = extract2df(soup,filename)\n",
    "        if len(df_obj) == 0:\n",
    "            f.close()\n",
    "            continue\n",
    "        df = df.append(df_obj)\n",
    "        f.close()\n",
    "df_train = df.reset_index().drop([\"index\"],axis =1)\n",
    "df_train.head()"
   ]
  },
  {
   "cell_type": "code",
   "execution_count": 6,
   "metadata": {},
   "outputs": [],
   "source": [
    "df_train.to_csv(\"test/data_scrap1.csv\",index = False)"
   ]
  },
  {
   "cell_type": "code",
   "execution_count": 4,
   "metadata": {},
   "outputs": [],
   "source": [
    "# df_train_new = df_train.sort_values(by= [\"Year\",\"Doc_no\"],ascending = [True,True]).reset_index().drop([\"index\"],axis = 1)"
   ]
  },
  {
   "cell_type": "code",
   "execution_count": 8,
   "metadata": {},
   "outputs": [],
   "source": [
    "# df_train_new.to_csv(\"/Users/kowshikmoyya/Documents/PGDBA/IIT Semester/Information Retrieval/Project/test/data_scrap.csv\",index = False)"
   ]
  }
 ],
 "metadata": {
  "kernelspec": {
   "display_name": "Python 3",
   "language": "python",
   "name": "python3"
  },
  "language_info": {
   "codemirror_mode": {
    "name": "ipython",
    "version": 3
   },
   "file_extension": ".py",
   "mimetype": "text/x-python",
   "name": "python",
   "nbconvert_exporter": "python",
   "pygments_lexer": "ipython3",
   "version": "3.7.3"
  }
 },
 "nbformat": 4,
 "nbformat_minor": 2
}
